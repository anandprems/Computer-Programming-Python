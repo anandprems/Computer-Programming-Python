{
 "cells": [
  {
   "cell_type": "code",
   "execution_count": 1,
   "id": "d6878dd4",
   "metadata": {},
   "outputs": [],
   "source": [
    "#creating function\n",
    "def greet(name):\n",
    "    \"\"\"\n",
    "    This function greets to\n",
    "    the person passed in as\n",
    "    a parameter\n",
    "    \"\"\"\n",
    "    print(\"Hello, \" + name + \". Good morning!\")"
   ]
  },
  {
   "cell_type": "code",
   "execution_count": 2,
   "id": "2e569d64",
   "metadata": {},
   "outputs": [
    {
     "name": "stdout",
     "output_type": "stream",
     "text": [
      "Hello, Pythonista!. Good morning!\n"
     ]
    }
   ],
   "source": [
    "#calling the function\n",
    "greet('Pythonista!')"
   ]
  },
  {
   "cell_type": "code",
   "execution_count": 3,
   "id": "74fe7bdb",
   "metadata": {},
   "outputs": [
    {
     "name": "stdout",
     "output_type": "stream",
     "text": [
      "Hello, Pythonista!. Good morning!\n"
     ]
    }
   ],
   "source": [
    "#another version careating function + calling\n",
    "#formal way of calling function is after creating the function\n",
    "def greet(name):\n",
    "    \"\"\"\n",
    "    This function greets to\n",
    "    the person passed in as\n",
    "    a parameter\n",
    "    \"\"\"\n",
    "    print(\"Hello, \" + name + \". Good morning!\")\n",
    "\n",
    "greet('Pythonista!')"
   ]
  },
  {
   "cell_type": "code",
   "execution_count": 7,
   "id": "1d17fa08",
   "metadata": {},
   "outputs": [
    {
     "ename": "NameError",
     "evalue": "name 'greetings' is not defined",
     "output_type": "error",
     "traceback": [
      "\u001b[1;31m---------------------------------------------------------------------------\u001b[0m",
      "\u001b[1;31mNameError\u001b[0m                                 Traceback (most recent call last)",
      "\u001b[1;32mC:\\Users\\SAB367~1.N\\AppData\\Local\\Temp/ipykernel_20324/1867033458.py\u001b[0m in \u001b[0;36m<module>\u001b[1;34m\u001b[0m\n\u001b[0;32m      1\u001b[0m \u001b[1;31m#not a formal way of calling the function\u001b[0m\u001b[1;33m\u001b[0m\u001b[1;33m\u001b[0m\u001b[0m\n\u001b[0;32m      2\u001b[0m \u001b[1;31m# function call\u001b[0m\u001b[1;33m\u001b[0m\u001b[1;33m\u001b[0m\u001b[0m\n\u001b[1;32m----> 3\u001b[1;33m \u001b[0mgreetings\u001b[0m\u001b[1;33m(\u001b[0m\u001b[1;34m'Pythonista!'\u001b[0m\u001b[1;33m)\u001b[0m\u001b[1;33m\u001b[0m\u001b[1;33m\u001b[0m\u001b[0m\n\u001b[0m\u001b[0;32m      4\u001b[0m \u001b[1;33m\u001b[0m\u001b[0m\n\u001b[0;32m      5\u001b[0m \u001b[1;31m# function definition\u001b[0m\u001b[1;33m\u001b[0m\u001b[1;33m\u001b[0m\u001b[0m\n",
      "\u001b[1;31mNameError\u001b[0m: name 'greetings' is not defined"
     ]
    }
   ],
   "source": [
    "#not a formal way of calling the function\n",
    "# function call\n",
    "greetings('Pythonista!')\n",
    "\n",
    "# function definition\n",
    "def greetings(name):\n",
    "    \"\"\"\n",
    "    This function greets to\n",
    "    the person passed in as\n",
    "    a parameter\n",
    "    \"\"\"\n",
    "    print(\"Hello, \" + name + \". Good morning!\")"
   ]
  },
  {
   "cell_type": "code",
   "execution_count": 9,
   "id": "88bb6519",
   "metadata": {},
   "outputs": [
    {
     "name": "stdout",
     "output_type": "stream",
     "text": [
      "\n",
      "    This function greets to\n",
      "    the person passed in as\n",
      "    a parameter\n",
      "    \n"
     ]
    }
   ],
   "source": [
    "#docstrings attribute for our functions docstring\n",
    "print(greet.__doc__)"
   ]
  },
  {
   "cell_type": "code",
   "execution_count": 10,
   "id": "87d99421",
   "metadata": {},
   "outputs": [
    {
     "name": "stdout",
     "output_type": "stream",
     "text": [
      "print(value, ..., sep=' ', end='\\n', file=sys.stdout, flush=False)\n",
      "\n",
      "Prints the values to a stream, or to sys.stdout by default.\n",
      "Optional keyword arguments:\n",
      "file:  a file-like object (stream); defaults to the current sys.stdout.\n",
      "sep:   string inserted between values, default a space.\n",
      "end:   string appended after the last value, default a newline.\n",
      "flush: whether to forcibly flush the stream.\n"
     ]
    }
   ],
   "source": [
    "#attribute for keywords\n",
    "print(print.__doc__)"
   ]
  },
  {
   "cell_type": "code",
   "execution_count": 15,
   "id": "5ccfe0f0",
   "metadata": {},
   "outputs": [
    {
     "name": "stdout",
     "output_type": "stream",
     "text": [
      "\n",
      "NumPy\n",
      "=====\n",
      "\n",
      "Provides\n",
      "  1. An array object of arbitrary homogeneous items\n",
      "  2. Fast mathematical operations over arrays\n",
      "  3. Linear Algebra, Fourier Transforms, Random Number Generation\n",
      "\n",
      "How to use the documentation\n",
      "----------------------------\n",
      "Documentation is available in two forms: docstrings provided\n",
      "with the code, and a loose standing reference guide, available from\n",
      "`the NumPy homepage <https://www.scipy.org>`_.\n",
      "\n",
      "We recommend exploring the docstrings using\n",
      "`IPython <https://ipython.org>`_, an advanced Python shell with\n",
      "TAB-completion and introspection capabilities.  See below for further\n",
      "instructions.\n",
      "\n",
      "The docstring examples assume that `numpy` has been imported as `np`::\n",
      "\n",
      "  >>> import numpy as np\n",
      "\n",
      "Code snippets are indicated by three greater-than signs::\n",
      "\n",
      "  >>> x = 42\n",
      "  >>> x = x + 1\n",
      "\n",
      "Use the built-in ``help`` function to view a function's docstring::\n",
      "\n",
      "  >>> help(np.sort)\n",
      "  ... # doctest: +SKIP\n",
      "\n",
      "For some objects, ``np.info(obj)`` may provide additional help.  This is\n",
      "particularly true if you see the line \"Help on ufunc object:\" at the top\n",
      "of the help() page.  Ufuncs are implemented in C, not Python, for speed.\n",
      "The native Python help() does not know how to view their help, but our\n",
      "np.info() function does.\n",
      "\n",
      "To search for documents containing a keyword, do::\n",
      "\n",
      "  >>> np.lookfor('keyword')\n",
      "  ... # doctest: +SKIP\n",
      "\n",
      "General-purpose documents like a glossary and help on the basic concepts\n",
      "of numpy are available under the ``doc`` sub-module::\n",
      "\n",
      "  >>> from numpy import doc\n",
      "  >>> help(doc)\n",
      "  ... # doctest: +SKIP\n",
      "\n",
      "Available subpackages\n",
      "---------------------\n",
      "doc\n",
      "    Topical documentation on broadcasting, indexing, etc.\n",
      "lib\n",
      "    Basic functions used by several sub-packages.\n",
      "random\n",
      "    Core Random Tools\n",
      "linalg\n",
      "    Core Linear Algebra Tools\n",
      "fft\n",
      "    Core FFT routines\n",
      "polynomial\n",
      "    Polynomial tools\n",
      "testing\n",
      "    NumPy testing tools\n",
      "f2py\n",
      "    Fortran to Python Interface Generator.\n",
      "distutils\n",
      "    Enhancements to distutils with support for\n",
      "    Fortran compilers support and more.\n",
      "\n",
      "Utilities\n",
      "---------\n",
      "test\n",
      "    Run numpy unittests\n",
      "show_config\n",
      "    Show numpy build configuration\n",
      "dual\n",
      "    Overwrite certain functions with high-performance SciPy tools.\n",
      "    Note: `numpy.dual` is deprecated.  Use the functions from NumPy or Scipy\n",
      "    directly instead of importing them from `numpy.dual`.\n",
      "matlib\n",
      "    Make everything matrices.\n",
      "__version__\n",
      "    NumPy version string\n",
      "\n",
      "Viewing documentation using IPython\n",
      "-----------------------------------\n",
      "Start IPython with the NumPy profile (``ipython -p numpy``), which will\n",
      "import `numpy` under the alias `np`.  Then, use the ``cpaste`` command to\n",
      "paste examples into the shell.  To see which functions are available in\n",
      "`numpy`, type ``np.<TAB>`` (where ``<TAB>`` refers to the TAB key), or use\n",
      "``np.*cos*?<ENTER>`` (where ``<ENTER>`` refers to the ENTER key) to narrow\n",
      "down the list.  To view the docstring for a function, use\n",
      "``np.cos?<ENTER>`` (to view the docstring) and ``np.cos??<ENTER>`` (to view\n",
      "the source code).\n",
      "\n",
      "Copies vs. in-place operation\n",
      "-----------------------------\n",
      "Most of the functions in `numpy` return a copy of the array argument\n",
      "(e.g., `np.sort`).  In-place versions of these functions are often\n",
      "available as array methods, i.e. ``x = np.array([1,2,3]); x.sort()``.\n",
      "Exceptions to this rule are documented.\n",
      "\n",
      "\n"
     ]
    }
   ],
   "source": [
    "#even for libraies also docstring will be used\n",
    "import numpy \n",
    "print(numpy.__doc__)"
   ]
  },
  {
   "cell_type": "code",
   "execution_count": 16,
   "id": "ed95c710",
   "metadata": {},
   "outputs": [
    {
     "name": "stdout",
     "output_type": "stream",
     "text": [
      "\n",
      "pandas - a powerful data analysis and manipulation library for Python\n",
      "=====================================================================\n",
      "\n",
      "**pandas** is a Python package providing fast, flexible, and expressive data\n",
      "structures designed to make working with \"relational\" or \"labeled\" data both\n",
      "easy and intuitive. It aims to be the fundamental high-level building block for\n",
      "doing practical, **real world** data analysis in Python. Additionally, it has\n",
      "the broader goal of becoming **the most powerful and flexible open source data\n",
      "analysis / manipulation tool available in any language**. It is already well on\n",
      "its way toward this goal.\n",
      "\n",
      "Main Features\n",
      "-------------\n",
      "Here are just a few of the things that pandas does well:\n",
      "\n",
      "  - Easy handling of missing data in floating point as well as non-floating\n",
      "    point data.\n",
      "  - Size mutability: columns can be inserted and deleted from DataFrame and\n",
      "    higher dimensional objects\n",
      "  - Automatic and explicit data alignment: objects can be explicitly aligned\n",
      "    to a set of labels, or the user can simply ignore the labels and let\n",
      "    `Series`, `DataFrame`, etc. automatically align the data for you in\n",
      "    computations.\n",
      "  - Powerful, flexible group by functionality to perform split-apply-combine\n",
      "    operations on data sets, for both aggregating and transforming data.\n",
      "  - Make it easy to convert ragged, differently-indexed data in other Python\n",
      "    and NumPy data structures into DataFrame objects.\n",
      "  - Intelligent label-based slicing, fancy indexing, and subsetting of large\n",
      "    data sets.\n",
      "  - Intuitive merging and joining data sets.\n",
      "  - Flexible reshaping and pivoting of data sets.\n",
      "  - Hierarchical labeling of axes (possible to have multiple labels per tick).\n",
      "  - Robust IO tools for loading data from flat files (CSV and delimited),\n",
      "    Excel files, databases, and saving/loading data from the ultrafast HDF5\n",
      "    format.\n",
      "  - Time series-specific functionality: date range generation and frequency\n",
      "    conversion, moving window statistics, date shifting and lagging.\n",
      "\n"
     ]
    }
   ],
   "source": [
    "#even for libraies also docstring will be used\n",
    "import pandas\n",
    "print(pandas.__doc__)"
   ]
  },
  {
   "cell_type": "code",
   "execution_count": 17,
   "id": "cc67b5a4",
   "metadata": {},
   "outputs": [
    {
     "name": "stdout",
     "output_type": "stream",
     "text": [
      "Hello, Pythonista!. Good morning!\n"
     ]
    }
   ],
   "source": [
    "# function definition\n",
    "def greetings(name):\n",
    "    \"\"\"\n",
    "    This function greets to\n",
    "    the person passed in as\n",
    "    a parameter\n",
    "    \"\"\"\n",
    "    print(\"Hello, \" + name + \". Good morning!\")\n",
    "    \n",
    "# function call\n",
    "greetings('Pythonista!')"
   ]
  },
  {
   "cell_type": "code",
   "execution_count": 18,
   "id": "0d2d94a0",
   "metadata": {},
   "outputs": [
    {
     "name": "stdout",
     "output_type": "stream",
     "text": [
      "Hello, Premanand. Good morning!\n",
      "None\n"
     ]
    }
   ],
   "source": [
    "#as no return statement in the function\n",
    "print(greetings('Premanand'))"
   ]
  },
  {
   "cell_type": "code",
   "execution_count": 21,
   "id": "afb1436c",
   "metadata": {},
   "outputs": [
    {
     "name": "stdout",
     "output_type": "stream",
     "text": [
      "2\n",
      "4\n"
     ]
    }
   ],
   "source": [
    "#function with return\n",
    "def absolute_value(num):\n",
    "    \"\"\"This function returns the absolute\n",
    "    value of the entered number\"\"\"\n",
    "\n",
    "    if num >= 0:\n",
    "        return num\n",
    "    else:\n",
    "        return -num\n",
    "\n",
    "\n",
    "print(absolute_value(-2))\n",
    "\n",
    "print(absolute_value(4))"
   ]
  },
  {
   "cell_type": "code",
   "execution_count": 22,
   "id": "98923e21",
   "metadata": {},
   "outputs": [
    {
     "name": "stdout",
     "output_type": "stream",
     "text": [
      "Value inside function: 10\n",
      "Value outside function: 20\n"
     ]
    }
   ],
   "source": [
    "#Scope and Lifetime of variables\n",
    "def my_func():\n",
    "\tx = 10\n",
    "\tprint(\"Value inside function:\",x)\n",
    "\n",
    "x = 20\n",
    "my_func()\n",
    "print(\"Value outside function:\",x)"
   ]
  },
  {
   "cell_type": "markdown",
   "id": "bdcc681f",
   "metadata": {},
   "source": [
    "# build in function"
   ]
  },
  {
   "cell_type": "code",
   "execution_count": 2,
   "id": "3bec3cf0",
   "metadata": {},
   "outputs": [
    {
     "data": {
      "text/plain": [
       "7.25"
      ]
     },
     "execution_count": 2,
     "metadata": {},
     "output_type": "execute_result"
    }
   ],
   "source": [
    "#abs() function returns the absolute value of the specified number.\n",
    "x = abs(-7.25)\n",
    "x"
   ]
  },
  {
   "cell_type": "code",
   "execution_count": 3,
   "id": "47100402",
   "metadata": {},
   "outputs": [
    {
     "data": {
      "text/plain": [
       "True"
      ]
     },
     "execution_count": 3,
     "metadata": {},
     "output_type": "execute_result"
    }
   ],
   "source": [
    "#An iterable object (list, tuple, dictionary) - all() function returns True if all items in an iterable are true\n",
    "mylist = [True, True, True]\n",
    "x = all(mylist)\n",
    "x"
   ]
  },
  {
   "cell_type": "code",
   "execution_count": 5,
   "id": "bc31985f",
   "metadata": {},
   "outputs": [
    {
     "data": {
      "text/plain": [
       "(tuple, str, int)"
      ]
     },
     "execution_count": 5,
     "metadata": {},
     "output_type": "execute_result"
    }
   ],
   "source": [
    "#type() function returns the type of the specified object\n",
    "a = ('apple', 'banana', 'cherry')\n",
    "b = \"Hello World\"\n",
    "c = 33\n",
    "\n",
    "x = type(a)\n",
    "y = type(b)\n",
    "z = type(c)\n",
    "x,y,z"
   ]
  },
  {
   "cell_type": "code",
   "execution_count": 6,
   "id": "5e895e6b",
   "metadata": {},
   "outputs": [
    {
     "name": "stdout",
     "output_type": "stream",
     "text": [
      "d\n",
      "c\n",
      "b\n",
      "a\n"
     ]
    }
   ],
   "source": [
    "#reversed() function returns a reversed iterator object.\n",
    "alph = [\"a\", \"b\", \"c\", \"d\"]\n",
    "ralph = reversed(alph)\n",
    "for x in ralph:\n",
    "  print(x)"
   ]
  },
  {
   "cell_type": "code",
   "execution_count": 8,
   "id": "35b9e0ed",
   "metadata": {},
   "outputs": [
    {
     "data": {
      "text/plain": [
       "['ArithmeticError',\n",
       " 'AssertionError',\n",
       " 'AttributeError',\n",
       " 'BaseException',\n",
       " 'BlockingIOError',\n",
       " 'BrokenPipeError',\n",
       " 'BufferError',\n",
       " 'BytesWarning',\n",
       " 'ChildProcessError',\n",
       " 'ConnectionAbortedError',\n",
       " 'ConnectionError',\n",
       " 'ConnectionRefusedError',\n",
       " 'ConnectionResetError',\n",
       " 'DeprecationWarning',\n",
       " 'EOFError',\n",
       " 'Ellipsis',\n",
       " 'EnvironmentError',\n",
       " 'Exception',\n",
       " 'False',\n",
       " 'FileExistsError',\n",
       " 'FileNotFoundError',\n",
       " 'FloatingPointError',\n",
       " 'FutureWarning',\n",
       " 'GeneratorExit',\n",
       " 'IOError',\n",
       " 'ImportError',\n",
       " 'ImportWarning',\n",
       " 'IndentationError',\n",
       " 'IndexError',\n",
       " 'InterruptedError',\n",
       " 'IsADirectoryError',\n",
       " 'KeyError',\n",
       " 'KeyboardInterrupt',\n",
       " 'LookupError',\n",
       " 'MemoryError',\n",
       " 'ModuleNotFoundError',\n",
       " 'NameError',\n",
       " 'None',\n",
       " 'NotADirectoryError',\n",
       " 'NotImplemented',\n",
       " 'NotImplementedError',\n",
       " 'OSError',\n",
       " 'OverflowError',\n",
       " 'PendingDeprecationWarning',\n",
       " 'PermissionError',\n",
       " 'ProcessLookupError',\n",
       " 'RecursionError',\n",
       " 'ReferenceError',\n",
       " 'ResourceWarning',\n",
       " 'RuntimeError',\n",
       " 'RuntimeWarning',\n",
       " 'StopAsyncIteration',\n",
       " 'StopIteration',\n",
       " 'SyntaxError',\n",
       " 'SyntaxWarning',\n",
       " 'SystemError',\n",
       " 'SystemExit',\n",
       " 'TabError',\n",
       " 'TimeoutError',\n",
       " 'True',\n",
       " 'TypeError',\n",
       " 'UnboundLocalError',\n",
       " 'UnicodeDecodeError',\n",
       " 'UnicodeEncodeError',\n",
       " 'UnicodeError',\n",
       " 'UnicodeTranslateError',\n",
       " 'UnicodeWarning',\n",
       " 'UserWarning',\n",
       " 'ValueError',\n",
       " 'Warning',\n",
       " 'WindowsError',\n",
       " 'ZeroDivisionError',\n",
       " '__IPYTHON__',\n",
       " '__build_class__',\n",
       " '__debug__',\n",
       " '__doc__',\n",
       " '__import__',\n",
       " '__loader__',\n",
       " '__name__',\n",
       " '__package__',\n",
       " '__spec__',\n",
       " 'abs',\n",
       " 'all',\n",
       " 'any',\n",
       " 'ascii',\n",
       " 'bin',\n",
       " 'bool',\n",
       " 'breakpoint',\n",
       " 'bytearray',\n",
       " 'bytes',\n",
       " 'callable',\n",
       " 'chr',\n",
       " 'classmethod',\n",
       " 'compile',\n",
       " 'complex',\n",
       " 'copyright',\n",
       " 'credits',\n",
       " 'delattr',\n",
       " 'dict',\n",
       " 'dir',\n",
       " 'display',\n",
       " 'divmod',\n",
       " 'enumerate',\n",
       " 'eval',\n",
       " 'exec',\n",
       " 'execfile',\n",
       " 'filter',\n",
       " 'float',\n",
       " 'format',\n",
       " 'frozenset',\n",
       " 'get_ipython',\n",
       " 'getattr',\n",
       " 'globals',\n",
       " 'hasattr',\n",
       " 'hash',\n",
       " 'help',\n",
       " 'hex',\n",
       " 'id',\n",
       " 'input',\n",
       " 'int',\n",
       " 'isinstance',\n",
       " 'issubclass',\n",
       " 'iter',\n",
       " 'len',\n",
       " 'license',\n",
       " 'list',\n",
       " 'locals',\n",
       " 'map',\n",
       " 'max',\n",
       " 'memoryview',\n",
       " 'min',\n",
       " 'next',\n",
       " 'object',\n",
       " 'oct',\n",
       " 'open',\n",
       " 'ord',\n",
       " 'pow',\n",
       " 'print',\n",
       " 'property',\n",
       " 'range',\n",
       " 'repr',\n",
       " 'reversed',\n",
       " 'round',\n",
       " 'runfile',\n",
       " 'set',\n",
       " 'setattr',\n",
       " 'slice',\n",
       " 'sorted',\n",
       " 'staticmethod',\n",
       " 'str',\n",
       " 'sum',\n",
       " 'super',\n",
       " 'tuple',\n",
       " 'type',\n",
       " 'vars',\n",
       " 'zip']"
      ]
     },
     "execution_count": 8,
     "metadata": {},
     "output_type": "execute_result"
    }
   ],
   "source": [
    "#this includes all built in functions\n",
    "import builtins\n",
    "dir(builtins)"
   ]
  },
  {
   "cell_type": "code",
   "execution_count": 9,
   "id": "ad7b7dda",
   "metadata": {},
   "outputs": [
    {
     "name": "stdout",
     "output_type": "stream",
     "text": [
      "__name__\n",
      "__doc__\n",
      "__package__\n",
      "__loader__\n",
      "__spec__\n",
      "__build_class__\n",
      "__import__\n",
      "abs\n",
      "all\n",
      "any\n",
      "ascii\n",
      "bin\n",
      "breakpoint\n",
      "callable\n",
      "chr\n",
      "compile\n",
      "delattr\n",
      "dir\n",
      "divmod\n",
      "eval\n",
      "exec\n",
      "format\n",
      "getattr\n",
      "globals\n",
      "hasattr\n",
      "hash\n",
      "hex\n",
      "id\n",
      "input\n",
      "isinstance\n",
      "issubclass\n",
      "iter\n",
      "len\n",
      "locals\n",
      "max\n",
      "min\n",
      "next\n",
      "oct\n",
      "ord\n",
      "pow\n",
      "print\n",
      "repr\n",
      "round\n",
      "setattr\n",
      "sorted\n",
      "sum\n",
      "vars\n",
      "None\n",
      "Ellipsis\n",
      "NotImplemented\n",
      "False\n",
      "True\n",
      "bool\n",
      "memoryview\n",
      "bytearray\n",
      "bytes\n",
      "classmethod\n",
      "complex\n",
      "dict\n",
      "enumerate\n",
      "filter\n",
      "float\n",
      "frozenset\n",
      "property\n",
      "int\n",
      "list\n",
      "map\n",
      "object\n",
      "range\n",
      "reversed\n",
      "set\n",
      "slice\n",
      "staticmethod\n",
      "str\n",
      "super\n",
      "tuple\n",
      "type\n",
      "zip\n",
      "__debug__\n",
      "BaseException\n",
      "Exception\n",
      "TypeError\n",
      "StopAsyncIteration\n",
      "StopIteration\n",
      "GeneratorExit\n",
      "SystemExit\n",
      "KeyboardInterrupt\n",
      "ImportError\n",
      "ModuleNotFoundError\n",
      "OSError\n",
      "EnvironmentError\n",
      "IOError\n",
      "WindowsError\n",
      "EOFError\n",
      "RuntimeError\n",
      "RecursionError\n",
      "NotImplementedError\n",
      "NameError\n",
      "UnboundLocalError\n",
      "AttributeError\n",
      "SyntaxError\n",
      "IndentationError\n",
      "TabError\n",
      "LookupError\n",
      "IndexError\n",
      "KeyError\n",
      "ValueError\n",
      "UnicodeError\n",
      "UnicodeEncodeError\n",
      "UnicodeDecodeError\n",
      "UnicodeTranslateError\n",
      "AssertionError\n",
      "ArithmeticError\n",
      "FloatingPointError\n",
      "OverflowError\n",
      "ZeroDivisionError\n",
      "SystemError\n",
      "ReferenceError\n",
      "MemoryError\n",
      "BufferError\n",
      "Warning\n",
      "UserWarning\n",
      "DeprecationWarning\n",
      "PendingDeprecationWarning\n",
      "SyntaxWarning\n",
      "RuntimeWarning\n",
      "FutureWarning\n",
      "ImportWarning\n",
      "UnicodeWarning\n",
      "BytesWarning\n",
      "ResourceWarning\n",
      "ConnectionError\n",
      "BlockingIOError\n",
      "BrokenPipeError\n",
      "ChildProcessError\n",
      "ConnectionAbortedError\n",
      "ConnectionRefusedError\n",
      "ConnectionResetError\n",
      "FileExistsError\n",
      "FileNotFoundError\n",
      "IsADirectoryError\n",
      "NotADirectoryError\n",
      "InterruptedError\n",
      "PermissionError\n",
      "ProcessLookupError\n",
      "TimeoutError\n",
      "open\n",
      "copyright\n",
      "credits\n",
      "license\n",
      "help\n",
      "execfile\n",
      "runfile\n",
      "__IPYTHON__\n",
      "display\n",
      "get_ipython\n"
     ]
    }
   ],
   "source": [
    "#A special attribute of every module is __dict__. \n",
    "#This is the dictionary containing the module’s symbol table.\n",
    "for e in __builtins__.__dict__:\n",
    "    print(e)"
   ]
  },
  {
   "cell_type": "code",
   "execution_count": null,
   "id": "8db18e2b",
   "metadata": {},
   "outputs": [],
   "source": []
  }
 ],
 "metadata": {
  "kernelspec": {
   "display_name": "Python 3 (ipykernel)",
   "language": "python",
   "name": "python3"
  },
  "language_info": {
   "codemirror_mode": {
    "name": "ipython",
    "version": 3
   },
   "file_extension": ".py",
   "mimetype": "text/x-python",
   "name": "python",
   "nbconvert_exporter": "python",
   "pygments_lexer": "ipython3",
   "version": "3.9.7"
  }
 },
 "nbformat": 4,
 "nbformat_minor": 5
}

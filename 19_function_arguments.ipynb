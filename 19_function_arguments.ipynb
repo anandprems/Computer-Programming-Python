{
 "cells": [
  {
   "cell_type": "code",
   "execution_count": null,
   "id": "e5bc5191",
   "metadata": {},
   "outputs": [],
   "source": [
    "#Types of Arguments\n",
    "#1. Positional arguments\n",
    "#2. Keyword arguments\n",
    "#3. Default arguments\n",
    "#4. Arbitary arguments or variable length arguments - 1. Arbitaory positional arguments 2. Arbitary keyword arguments"
   ]
  },
  {
   "cell_type": "code",
   "execution_count": 1,
   "id": "9512f138",
   "metadata": {},
   "outputs": [],
   "source": [
    "#positional arguments\n",
    "def greet(msg, name):\n",
    "    \"\"\"This function greets to\n",
    "    the person with the provided message\"\"\"\n",
    "    print(\"Hello\", name + ', ' + msg)"
   ]
  },
  {
   "cell_type": "code",
   "execution_count": 2,
   "id": "81eee208",
   "metadata": {},
   "outputs": [
    {
     "name": "stdout",
     "output_type": "stream",
     "text": [
      "Hello Good evening!, prem\n"
     ]
    }
   ],
   "source": [
    "#postional arguments - correct way\n",
    "greet(\"prem\", \"Good evening!\")"
   ]
  },
  {
   "cell_type": "code",
   "execution_count": 3,
   "id": "ea77cc70",
   "metadata": {},
   "outputs": [
    {
     "ename": "TypeError",
     "evalue": "greet() missing 1 required positional argument: 'msg'",
     "output_type": "error",
     "traceback": [
      "\u001b[1;31m---------------------------------------------------------------------------\u001b[0m",
      "\u001b[1;31mTypeError\u001b[0m                                 Traceback (most recent call last)",
      "\u001b[1;32mC:\\Users\\SAB367~1.N\\AppData\\Local\\Temp/ipykernel_23460/263304960.py\u001b[0m in \u001b[0;36m<module>\u001b[1;34m\u001b[0m\n\u001b[1;32m----> 1\u001b[1;33m \u001b[0mgreet\u001b[0m\u001b[1;33m(\u001b[0m\u001b[1;34m\"prem\"\u001b[0m\u001b[1;33m)\u001b[0m\u001b[1;33m\u001b[0m\u001b[1;33m\u001b[0m\u001b[0m\n\u001b[0m",
      "\u001b[1;31mTypeError\u001b[0m: greet() missing 1 required positional argument: 'msg'"
     ]
    }
   ],
   "source": [
    "#positional arguments - missing arguments\n",
    "greet(\"prem\")"
   ]
  },
  {
   "cell_type": "code",
   "execution_count": 4,
   "id": "0c98e2a9",
   "metadata": {},
   "outputs": [
    {
     "ename": "TypeError",
     "evalue": "greet() missing 2 required positional arguments: 'name' and 'msg'",
     "output_type": "error",
     "traceback": [
      "\u001b[1;31m---------------------------------------------------------------------------\u001b[0m",
      "\u001b[1;31mTypeError\u001b[0m                                 Traceback (most recent call last)",
      "\u001b[1;32mC:\\Users\\SAB367~1.N\\AppData\\Local\\Temp/ipykernel_23460/2890983093.py\u001b[0m in \u001b[0;36m<module>\u001b[1;34m\u001b[0m\n\u001b[1;32m----> 1\u001b[1;33m \u001b[0mgreet\u001b[0m\u001b[1;33m(\u001b[0m\u001b[1;33m)\u001b[0m\u001b[1;33m\u001b[0m\u001b[1;33m\u001b[0m\u001b[0m\n\u001b[0m",
      "\u001b[1;31mTypeError\u001b[0m: greet() missing 2 required positional arguments: 'name' and 'msg'"
     ]
    }
   ],
   "source": [
    "#positional arguments - arguments missing\n",
    "greet()"
   ]
  },
  {
   "cell_type": "code",
   "execution_count": 6,
   "id": "66a6b18c",
   "metadata": {},
   "outputs": [],
   "source": [
    "#default arguments\n",
    "def greet(name, msg=\"Good morning!\"):\n",
    "    \"\"\"\n",
    "    This function greets to\n",
    "    the person with the\n",
    "    provided message.\n",
    "\n",
    "    If the message is not provided,\n",
    "    it defaults to \"Good\n",
    "    morning!\"\n",
    "    \"\"\"\n",
    "\n",
    "    print(\"Hello\", name + ', ' + msg)"
   ]
  },
  {
   "cell_type": "code",
   "execution_count": 7,
   "id": "49a4f12a",
   "metadata": {},
   "outputs": [
    {
     "name": "stdout",
     "output_type": "stream",
     "text": [
      "Hello prem, Good morning!\n"
     ]
    }
   ],
   "source": [
    "#with default arguments\n",
    "greet(\"prem\")"
   ]
  },
  {
   "cell_type": "code",
   "execution_count": 8,
   "id": "23fe472c",
   "metadata": {},
   "outputs": [
    {
     "name": "stdout",
     "output_type": "stream",
     "text": [
      "Hello pythonista, How do you do?\n"
     ]
    }
   ],
   "source": [
    "#overwrite\n",
    "greet(\"pythonista\", \"How do you do?\")"
   ]
  },
  {
   "cell_type": "code",
   "execution_count": 9,
   "id": "b2531753",
   "metadata": {},
   "outputs": [
    {
     "name": "stdout",
     "output_type": "stream",
     "text": [
      "Hello prem, How do you do?\n"
     ]
    }
   ],
   "source": [
    "#keyword arguments - change the position, change the arguments position\n",
    "greet(msg = \"How do you do?\",name = \"prem\") "
   ]
  },
  {
   "cell_type": "code",
   "execution_count": 10,
   "id": "315413ac",
   "metadata": {},
   "outputs": [
    {
     "ename": "SyntaxError",
     "evalue": "positional argument follows keyword argument (Temp/ipykernel_23460/2197683870.py, line 2)",
     "output_type": "error",
     "traceback": [
      "\u001b[1;36m  File \u001b[1;32m\"C:\\Users\\SAB367~1.N\\AppData\\Local\\Temp/ipykernel_23460/2197683870.py\"\u001b[1;36m, line \u001b[1;32m2\u001b[0m\n\u001b[1;33m    greet(name=\"Bruce\",\"How do you do?\")\u001b[0m\n\u001b[1;37m                                       ^\u001b[0m\n\u001b[1;31mSyntaxError\u001b[0m\u001b[1;31m:\u001b[0m positional argument follows keyword argument\n"
     ]
    }
   ],
   "source": [
    "#argument keyword\n",
    "greet(name=\"Bruce\",\"How do you do?\")"
   ]
  },
  {
   "cell_type": "code",
   "execution_count": 11,
   "id": "16fba6e9",
   "metadata": {},
   "outputs": [
    {
     "name": "stdout",
     "output_type": "stream",
     "text": [
      "Hello anandprem\n",
      "Hello premanand\n",
      "Hello anand\n",
      "Hello prem\n"
     ]
    }
   ],
   "source": [
    "#arbitary arguments\n",
    "def greet(*names):\n",
    "    \"\"\"This function greets all\n",
    "    the person in the names tuple.\"\"\"\n",
    "\n",
    "    # names is a tuple with arguments\n",
    "    for name in names:\n",
    "        print(\"Hello\", name)\n",
    "\n",
    "\n",
    "greet(\"anandprem\", \"premanand\", \"anand\", \"prem\")"
   ]
  },
  {
   "cell_type": "code",
   "execution_count": null,
   "id": "9d5fad4c",
   "metadata": {},
   "outputs": [],
   "source": []
  }
 ],
 "metadata": {
  "kernelspec": {
   "display_name": "Python 3 (ipykernel)",
   "language": "python",
   "name": "python3"
  },
  "language_info": {
   "codemirror_mode": {
    "name": "ipython",
    "version": 3
   },
   "file_extension": ".py",
   "mimetype": "text/x-python",
   "name": "python",
   "nbconvert_exporter": "python",
   "pygments_lexer": "ipython3",
   "version": "3.9.7"
  }
 },
 "nbformat": 4,
 "nbformat_minor": 5
}

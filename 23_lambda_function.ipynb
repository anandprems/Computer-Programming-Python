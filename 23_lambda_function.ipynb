{
 "cells": [
  {
   "cell_type": "code",
   "execution_count": 2,
   "id": "7a837ca4",
   "metadata": {},
   "outputs": [
    {
     "name": "stdout",
     "output_type": "stream",
     "text": [
      "53\n"
     ]
    }
   ],
   "source": [
    "#by def\n",
    "def adds(a,b):\n",
    "    return a+b\n",
    "print(adds(10,43))"
   ]
  },
  {
   "cell_type": "code",
   "execution_count": 3,
   "id": "8f3f8ecc",
   "metadata": {},
   "outputs": [
    {
     "name": "stdout",
     "output_type": "stream",
     "text": [
      "53\n"
     ]
    }
   ],
   "source": [
    "#by lambda\n",
    "adds = lambda a,b: a+b\n",
    "print(adds(10,43))"
   ]
  },
  {
   "cell_type": "code",
   "execution_count": 1,
   "id": "f003e8fa",
   "metadata": {},
   "outputs": [
    {
     "data": {
      "text/plain": [
       "2.0"
      ]
     },
     "execution_count": 1,
     "metadata": {},
     "output_type": "execute_result"
    }
   ],
   "source": [
    "#simple expression\n",
    "(lambda a: a/2.5)(5)"
   ]
  },
  {
   "cell_type": "code",
   "execution_count": 6,
   "id": "bc246bf1",
   "metadata": {},
   "outputs": [
    {
     "name": "stdout",
     "output_type": "stream",
     "text": [
      "hello world!\n"
     ]
    }
   ],
   "source": [
    "a = lambda : \"hello world!\"\n",
    "#print(a)\n",
    "print(a())"
   ]
  },
  {
   "cell_type": "code",
   "execution_count": 7,
   "id": "0adbd589",
   "metadata": {},
   "outputs": [
    {
     "name": "stdout",
     "output_type": "stream",
     "text": [
      "Calculating cubes by using lambda:  125\n"
     ]
    }
   ],
   "source": [
    "# calculate cubes using lambda\n",
    "cubes = lambda a: a*a*a\n",
    "print('Calculating cubes by using lambda: ', cubes(5))"
   ]
  },
  {
   "cell_type": "code",
   "execution_count": 8,
   "id": "48265f87",
   "metadata": {},
   "outputs": [
    {
     "data": {
      "text/plain": [
       "24"
      ]
     },
     "execution_count": 8,
     "metadata": {},
     "output_type": "execute_result"
    }
   ],
   "source": [
    "#product\n",
    "(lambda x: x*2)(12)"
   ]
  },
  {
   "cell_type": "code",
   "execution_count": 9,
   "id": "6c542674",
   "metadata": {},
   "outputs": [],
   "source": [
    "#creating a dataframe\n",
    "#importing libraries\n",
    "import pandas as pd\n",
    "#creating dataframe\n",
    "data = pd.DataFrame({\n",
    "    'S.No':[1,2,3,4,5],\n",
    "    'name':['Anand','Ramesh','Surya','Dinesh','Dhamu'],\n",
    "    'expert':['ML','DS','Network','Banking','Electronics'],\n",
    "    'income':[45000,50000,75000,80000,85000],\n",
    "    'place':['Cheyyar','Chennai','Bangalore','Malaysia','Cheannai'],\n",
    "    'Experience':[3,2,10,9,5]\n",
    "})"
   ]
  },
  {
   "cell_type": "code",
   "execution_count": 10,
   "id": "e9b13901",
   "metadata": {},
   "outputs": [
    {
     "data": {
      "text/html": [
       "<div>\n",
       "<style scoped>\n",
       "    .dataframe tbody tr th:only-of-type {\n",
       "        vertical-align: middle;\n",
       "    }\n",
       "\n",
       "    .dataframe tbody tr th {\n",
       "        vertical-align: top;\n",
       "    }\n",
       "\n",
       "    .dataframe thead th {\n",
       "        text-align: right;\n",
       "    }\n",
       "</style>\n",
       "<table border=\"1\" class=\"dataframe\">\n",
       "  <thead>\n",
       "    <tr style=\"text-align: right;\">\n",
       "      <th></th>\n",
       "      <th>S.No</th>\n",
       "      <th>name</th>\n",
       "      <th>expert</th>\n",
       "      <th>income</th>\n",
       "      <th>place</th>\n",
       "      <th>Experience</th>\n",
       "    </tr>\n",
       "  </thead>\n",
       "  <tbody>\n",
       "    <tr>\n",
       "      <th>0</th>\n",
       "      <td>1</td>\n",
       "      <td>Anand</td>\n",
       "      <td>ML</td>\n",
       "      <td>45000</td>\n",
       "      <td>Cheyyar</td>\n",
       "      <td>3</td>\n",
       "    </tr>\n",
       "    <tr>\n",
       "      <th>1</th>\n",
       "      <td>2</td>\n",
       "      <td>Ramesh</td>\n",
       "      <td>DS</td>\n",
       "      <td>50000</td>\n",
       "      <td>Chennai</td>\n",
       "      <td>2</td>\n",
       "    </tr>\n",
       "    <tr>\n",
       "      <th>2</th>\n",
       "      <td>3</td>\n",
       "      <td>Surya</td>\n",
       "      <td>Network</td>\n",
       "      <td>75000</td>\n",
       "      <td>Bangalore</td>\n",
       "      <td>10</td>\n",
       "    </tr>\n",
       "    <tr>\n",
       "      <th>3</th>\n",
       "      <td>4</td>\n",
       "      <td>Dinesh</td>\n",
       "      <td>Banking</td>\n",
       "      <td>80000</td>\n",
       "      <td>Malaysia</td>\n",
       "      <td>9</td>\n",
       "    </tr>\n",
       "    <tr>\n",
       "      <th>4</th>\n",
       "      <td>5</td>\n",
       "      <td>Dhamu</td>\n",
       "      <td>Electronics</td>\n",
       "      <td>85000</td>\n",
       "      <td>Cheannai</td>\n",
       "      <td>5</td>\n",
       "    </tr>\n",
       "  </tbody>\n",
       "</table>\n",
       "</div>"
      ],
      "text/plain": [
       "   S.No    name       expert  income      place  Experience\n",
       "0     1   Anand           ML   45000    Cheyyar           3\n",
       "1     2  Ramesh           DS   50000    Chennai           2\n",
       "2     3   Surya      Network   75000  Bangalore          10\n",
       "3     4  Dinesh      Banking   80000   Malaysia           9\n",
       "4     5   Dhamu  Electronics   85000   Cheannai           5"
      ]
     },
     "execution_count": 10,
     "metadata": {},
     "output_type": "execute_result"
    }
   ],
   "source": [
    "data"
   ]
  },
  {
   "cell_type": "code",
   "execution_count": 11,
   "id": "56309c04",
   "metadata": {},
   "outputs": [
    {
     "data": {
      "text/html": [
       "<div>\n",
       "<style scoped>\n",
       "    .dataframe tbody tr th:only-of-type {\n",
       "        vertical-align: middle;\n",
       "    }\n",
       "\n",
       "    .dataframe tbody tr th {\n",
       "        vertical-align: top;\n",
       "    }\n",
       "\n",
       "    .dataframe thead th {\n",
       "        text-align: right;\n",
       "    }\n",
       "</style>\n",
       "<table border=\"1\" class=\"dataframe\">\n",
       "  <thead>\n",
       "    <tr style=\"text-align: right;\">\n",
       "      <th></th>\n",
       "      <th>S.No</th>\n",
       "      <th>name</th>\n",
       "      <th>expert</th>\n",
       "      <th>income</th>\n",
       "      <th>place</th>\n",
       "      <th>Experience</th>\n",
       "    </tr>\n",
       "  </thead>\n",
       "  <tbody>\n",
       "    <tr>\n",
       "      <th>0</th>\n",
       "      <td>1</td>\n",
       "      <td>Anand</td>\n",
       "      <td>ML</td>\n",
       "      <td>50500</td>\n",
       "      <td>Cheyyar</td>\n",
       "      <td>3</td>\n",
       "    </tr>\n",
       "    <tr>\n",
       "      <th>1</th>\n",
       "      <td>2</td>\n",
       "      <td>Ramesh</td>\n",
       "      <td>DS</td>\n",
       "      <td>55500</td>\n",
       "      <td>Chennai</td>\n",
       "      <td>2</td>\n",
       "    </tr>\n",
       "    <tr>\n",
       "      <th>2</th>\n",
       "      <td>3</td>\n",
       "      <td>Surya</td>\n",
       "      <td>Network</td>\n",
       "      <td>80500</td>\n",
       "      <td>Bangalore</td>\n",
       "      <td>10</td>\n",
       "    </tr>\n",
       "    <tr>\n",
       "      <th>3</th>\n",
       "      <td>4</td>\n",
       "      <td>Dinesh</td>\n",
       "      <td>Banking</td>\n",
       "      <td>85500</td>\n",
       "      <td>Malaysia</td>\n",
       "      <td>9</td>\n",
       "    </tr>\n",
       "    <tr>\n",
       "      <th>4</th>\n",
       "      <td>5</td>\n",
       "      <td>Dhamu</td>\n",
       "      <td>Electronics</td>\n",
       "      <td>90500</td>\n",
       "      <td>Cheannai</td>\n",
       "      <td>5</td>\n",
       "    </tr>\n",
       "  </tbody>\n",
       "</table>\n",
       "</div>"
      ],
      "text/plain": [
       "   S.No    name       expert  income      place  Experience\n",
       "0     1   Anand           ML   50500    Cheyyar           3\n",
       "1     2  Ramesh           DS   55500    Chennai           2\n",
       "2     3   Surya      Network   80500  Bangalore          10\n",
       "3     4  Dinesh      Banking   85500   Malaysia           9\n",
       "4     5   Dhamu  Electronics   90500   Cheannai           5"
      ]
     },
     "execution_count": 11,
     "metadata": {},
     "output_type": "execute_result"
    }
   ],
   "source": [
    "#lambda with apply\n",
    "data['income'] = data.apply(lambda i: i['income']+5500, axis=1)\n",
    "data"
   ]
  },
  {
   "cell_type": "code",
   "execution_count": 12,
   "id": "65df40e7",
   "metadata": {},
   "outputs": [
    {
     "data": {
      "text/plain": [
       "[10, 9]"
      ]
     },
     "execution_count": 12,
     "metadata": {},
     "output_type": "execute_result"
    }
   ],
   "source": [
    "#filter function for segregation from the dataframe\n",
    "list(filter(lambda i: i>5, data['Experience']))"
   ]
  },
  {
   "cell_type": "code",
   "execution_count": 13,
   "id": "2c937cd8",
   "metadata": {},
   "outputs": [
    {
     "data": {
      "text/html": [
       "<div>\n",
       "<style scoped>\n",
       "    .dataframe tbody tr th:only-of-type {\n",
       "        vertical-align: middle;\n",
       "    }\n",
       "\n",
       "    .dataframe tbody tr th {\n",
       "        vertical-align: top;\n",
       "    }\n",
       "\n",
       "    .dataframe thead th {\n",
       "        text-align: right;\n",
       "    }\n",
       "</style>\n",
       "<table border=\"1\" class=\"dataframe\">\n",
       "  <thead>\n",
       "    <tr style=\"text-align: right;\">\n",
       "      <th></th>\n",
       "      <th>S.No</th>\n",
       "      <th>name</th>\n",
       "      <th>expert</th>\n",
       "      <th>income</th>\n",
       "      <th>place</th>\n",
       "      <th>Experience</th>\n",
       "    </tr>\n",
       "  </thead>\n",
       "  <tbody>\n",
       "    <tr>\n",
       "      <th>0</th>\n",
       "      <td>1</td>\n",
       "      <td>Anand</td>\n",
       "      <td>ML</td>\n",
       "      <td>58075</td>\n",
       "      <td>Cheyyar</td>\n",
       "      <td>3</td>\n",
       "    </tr>\n",
       "    <tr>\n",
       "      <th>1</th>\n",
       "      <td>2</td>\n",
       "      <td>Ramesh</td>\n",
       "      <td>DS</td>\n",
       "      <td>63825</td>\n",
       "      <td>Chennai</td>\n",
       "      <td>2</td>\n",
       "    </tr>\n",
       "    <tr>\n",
       "      <th>2</th>\n",
       "      <td>3</td>\n",
       "      <td>Surya</td>\n",
       "      <td>Network</td>\n",
       "      <td>92575</td>\n",
       "      <td>Bangalore</td>\n",
       "      <td>10</td>\n",
       "    </tr>\n",
       "    <tr>\n",
       "      <th>3</th>\n",
       "      <td>4</td>\n",
       "      <td>Dinesh</td>\n",
       "      <td>Banking</td>\n",
       "      <td>98325</td>\n",
       "      <td>Malaysia</td>\n",
       "      <td>9</td>\n",
       "    </tr>\n",
       "    <tr>\n",
       "      <th>4</th>\n",
       "      <td>5</td>\n",
       "      <td>Dhamu</td>\n",
       "      <td>Electronics</td>\n",
       "      <td>104075</td>\n",
       "      <td>Cheannai</td>\n",
       "      <td>5</td>\n",
       "    </tr>\n",
       "  </tbody>\n",
       "</table>\n",
       "</div>"
      ],
      "text/plain": [
       "   S.No    name       expert  income      place  Experience\n",
       "0     1   Anand           ML   58075    Cheyyar           3\n",
       "1     2  Ramesh           DS   63825    Chennai           2\n",
       "2     3   Surya      Network   92575  Bangalore          10\n",
       "3     4  Dinesh      Banking   98325   Malaysia           9\n",
       "4     5   Dhamu  Electronics  104075   Cheannai           5"
      ]
     },
     "execution_count": 13,
     "metadata": {},
     "output_type": "execute_result"
    }
   ],
   "source": [
    "#map() function\n",
    "data['income']=list(map(lambda i: int(i+i*0.15),data['income']))\n",
    "data"
   ]
  },
  {
   "cell_type": "code",
   "execution_count": 15,
   "id": "f2e5dc94",
   "metadata": {},
   "outputs": [
    {
     "data": {
      "text/html": [
       "<div>\n",
       "<style scoped>\n",
       "    .dataframe tbody tr th:only-of-type {\n",
       "        vertical-align: middle;\n",
       "    }\n",
       "\n",
       "    .dataframe tbody tr th {\n",
       "        vertical-align: top;\n",
       "    }\n",
       "\n",
       "    .dataframe thead th {\n",
       "        text-align: right;\n",
       "    }\n",
       "</style>\n",
       "<table border=\"1\" class=\"dataframe\">\n",
       "  <thead>\n",
       "    <tr style=\"text-align: right;\">\n",
       "      <th></th>\n",
       "      <th>S.No</th>\n",
       "      <th>name</th>\n",
       "      <th>expert</th>\n",
       "      <th>income</th>\n",
       "      <th>place</th>\n",
       "      <th>Experience</th>\n",
       "      <th>category</th>\n",
       "    </tr>\n",
       "  </thead>\n",
       "  <tbody>\n",
       "    <tr>\n",
       "      <th>0</th>\n",
       "      <td>1</td>\n",
       "      <td>Anand</td>\n",
       "      <td>ML</td>\n",
       "      <td>58075</td>\n",
       "      <td>Cheyyar</td>\n",
       "      <td>3</td>\n",
       "      <td>Begineer</td>\n",
       "    </tr>\n",
       "    <tr>\n",
       "      <th>1</th>\n",
       "      <td>2</td>\n",
       "      <td>Ramesh</td>\n",
       "      <td>DS</td>\n",
       "      <td>63825</td>\n",
       "      <td>Chennai</td>\n",
       "      <td>2</td>\n",
       "      <td>Begineer</td>\n",
       "    </tr>\n",
       "    <tr>\n",
       "      <th>2</th>\n",
       "      <td>3</td>\n",
       "      <td>Surya</td>\n",
       "      <td>Network</td>\n",
       "      <td>92575</td>\n",
       "      <td>Bangalore</td>\n",
       "      <td>10</td>\n",
       "      <td>Expert level</td>\n",
       "    </tr>\n",
       "    <tr>\n",
       "      <th>3</th>\n",
       "      <td>4</td>\n",
       "      <td>Dinesh</td>\n",
       "      <td>Banking</td>\n",
       "      <td>98325</td>\n",
       "      <td>Malaysia</td>\n",
       "      <td>9</td>\n",
       "      <td>Expert level</td>\n",
       "    </tr>\n",
       "    <tr>\n",
       "      <th>4</th>\n",
       "      <td>5</td>\n",
       "      <td>Dhamu</td>\n",
       "      <td>Electronics</td>\n",
       "      <td>104075</td>\n",
       "      <td>Cheannai</td>\n",
       "      <td>5</td>\n",
       "      <td>Expert level</td>\n",
       "    </tr>\n",
       "  </tbody>\n",
       "</table>\n",
       "</div>"
      ],
      "text/plain": [
       "   S.No    name       expert  income      place  Experience      category\n",
       "0     1   Anand           ML   58075    Cheyyar           3      Begineer\n",
       "1     2  Ramesh           DS   63825    Chennai           2      Begineer\n",
       "2     3   Surya      Network   92575  Bangalore          10  Expert level\n",
       "3     4  Dinesh      Banking   98325   Malaysia           9  Expert level\n",
       "4     5   Dhamu  Electronics  104075   Cheannai           5  Expert level"
      ]
     },
     "execution_count": 15,
     "metadata": {},
     "output_type": "execute_result"
    }
   ],
   "source": [
    "#lambda function with conditional statement\n",
    "data['category']=data['Experience'].apply(lambda x: 'Expert level' if\n",
    "  x>=5 else 'Begineer')\n",
    "data"
   ]
  },
  {
   "cell_type": "code",
   "execution_count": 16,
   "id": "64d4b737",
   "metadata": {},
   "outputs": [
    {
     "data": {
      "text/plain": [
       "416875"
      ]
     },
     "execution_count": 16,
     "metadata": {},
     "output_type": "execute_result"
    }
   ],
   "source": [
    "#reduce function\n",
    "import functools\n",
    "functools.reduce(lambda a,b: a+b,data['income'])"
   ]
  },
  {
   "cell_type": "code",
   "execution_count": null,
   "id": "754f9972",
   "metadata": {},
   "outputs": [],
   "source": []
  }
 ],
 "metadata": {
  "kernelspec": {
   "display_name": "Python 3 (ipykernel)",
   "language": "python",
   "name": "python3"
  },
  "language_info": {
   "codemirror_mode": {
    "name": "ipython",
    "version": 3
   },
   "file_extension": ".py",
   "mimetype": "text/x-python",
   "name": "python",
   "nbconvert_exporter": "python",
   "pygments_lexer": "ipython3",
   "version": "3.9.7"
  }
 },
 "nbformat": 4,
 "nbformat_minor": 5
}
